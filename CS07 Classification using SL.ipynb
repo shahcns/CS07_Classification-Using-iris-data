{
 "cells": [
  {
   "cell_type": "markdown",
   "id": "69696a7c",
   "metadata": {},
   "source": [
    "# Importing Essential Libraries."
   ]
  },
  {
   "cell_type": "code",
   "execution_count": 69,
   "id": "c41bc86c",
   "metadata": {},
   "outputs": [],
   "source": [
    "import numpy as np\n",
    "import pandas as pd\n",
    "import matplotlib.pyplot as plt\n",
    "import seaborn as sns\n",
    "from sklearn.model_selection import train_test_split\n",
    "from sklearn.linear_model import LogisticRegression \n",
    "from sklearn.neighbors import KNeighborsClassifier\n",
    "from sklearn.svm import SVC\n",
    "from sklearn.tree import DecisionTreeClassifier, plot_tree\n",
    "from sklearn.preprocessing import StandardScaler\n",
    "from sklearn.metrics import accuracy_score, confusion_matrix, recall_score,precision_score\n",
    "from sklearn.ensemble import RandomForestClassifier\n",
    "import warnings\n",
    "warnings.filterwarnings(\"ignore\")"
   ]
  },
  {
   "cell_type": "markdown",
   "id": "7e3ce5c7",
   "metadata": {},
   "source": [
    "# 1.Loading the Iris Data Set Into Python."
   ]
  },
  {
   "cell_type": "code",
   "execution_count": 35,
   "id": "c9ad3ae2",
   "metadata": {},
   "outputs": [
    {
     "data": {
      "text/html": [
       "<div>\n",
       "<style scoped>\n",
       "    .dataframe tbody tr th:only-of-type {\n",
       "        vertical-align: middle;\n",
       "    }\n",
       "\n",
       "    .dataframe tbody tr th {\n",
       "        vertical-align: top;\n",
       "    }\n",
       "\n",
       "    .dataframe thead th {\n",
       "        text-align: right;\n",
       "    }\n",
       "</style>\n",
       "<table border=\"1\" class=\"dataframe\">\n",
       "  <thead>\n",
       "    <tr style=\"text-align: right;\">\n",
       "      <th></th>\n",
       "      <th>SL</th>\n",
       "      <th>SW</th>\n",
       "      <th>PL</th>\n",
       "      <th>PW</th>\n",
       "      <th>Classification</th>\n",
       "    </tr>\n",
       "  </thead>\n",
       "  <tbody>\n",
       "    <tr>\n",
       "      <th>0</th>\n",
       "      <td>5.1</td>\n",
       "      <td>3.5</td>\n",
       "      <td>1.4</td>\n",
       "      <td>0.2</td>\n",
       "      <td>Iris-setosa</td>\n",
       "    </tr>\n",
       "    <tr>\n",
       "      <th>1</th>\n",
       "      <td>4.9</td>\n",
       "      <td>3.0</td>\n",
       "      <td>1.4</td>\n",
       "      <td>0.2</td>\n",
       "      <td>Iris-setosa</td>\n",
       "    </tr>\n",
       "    <tr>\n",
       "      <th>2</th>\n",
       "      <td>NaN</td>\n",
       "      <td>3.2</td>\n",
       "      <td>1.3</td>\n",
       "      <td>0.2</td>\n",
       "      <td>Iris-setosa</td>\n",
       "    </tr>\n",
       "    <tr>\n",
       "      <th>3</th>\n",
       "      <td>4.6</td>\n",
       "      <td>3.1</td>\n",
       "      <td>1.5</td>\n",
       "      <td>0.2</td>\n",
       "      <td>Iris-setosa</td>\n",
       "    </tr>\n",
       "    <tr>\n",
       "      <th>4</th>\n",
       "      <td>5.0</td>\n",
       "      <td>3.6</td>\n",
       "      <td>1.4</td>\n",
       "      <td>0.2</td>\n",
       "      <td>Iris-setosa</td>\n",
       "    </tr>\n",
       "  </tbody>\n",
       "</table>\n",
       "</div>"
      ],
      "text/plain": [
       "    SL   SW   PL   PW Classification\n",
       "0  5.1  3.5  1.4  0.2    Iris-setosa\n",
       "1  4.9  3.0  1.4  0.2    Iris-setosa\n",
       "2  NaN  3.2  1.3  0.2    Iris-setosa\n",
       "3  4.6  3.1  1.5  0.2    Iris-setosa\n",
       "4  5.0  3.6  1.4  0.2    Iris-setosa"
      ]
     },
     "execution_count": 35,
     "metadata": {},
     "output_type": "execute_result"
    }
   ],
   "source": [
    "ird=pd.read_excel(r'C:\\Users\\Lenovo\\OneDrive\\Desktop\\ICT Academy\\CS07 iris.xls')\n",
    "ird.head()"
   ]
  },
  {
   "cell_type": "markdown",
   "id": "afc3d283",
   "metadata": {},
   "source": [
    "# 2. Necessory Pre-Processing On Data"
   ]
  },
  {
   "cell_type": "markdown",
   "id": "228b6824",
   "metadata": {},
   "source": [
    "## a. Checking NaN value is Data set."
   ]
  },
  {
   "cell_type": "code",
   "execution_count": 36,
   "id": "b3735835",
   "metadata": {},
   "outputs": [
    {
     "data": {
      "text/plain": [
       "SL                7\n",
       "SW                6\n",
       "PL                6\n",
       "PW                0\n",
       "Classification    0\n",
       "dtype: int64"
      ]
     },
     "execution_count": 36,
     "metadata": {},
     "output_type": "execute_result"
    }
   ],
   "source": [
    "ird.isna().sum()"
   ]
  },
  {
   "cell_type": "markdown",
   "id": "58e1ced6",
   "metadata": {},
   "source": [
    "**Interpretation**<br>\n",
    "Here it is clear that the there is 7 missing values in Sepel Length.<br>\n",
    "And 6 missing value is in Sepel width.<br>\n",
    "Also 6 missing values in Petal Width.<br>"
   ]
  },
  {
   "cell_type": "markdown",
   "id": "f7a60f82",
   "metadata": {},
   "source": [
    "## b. Filling The NaN with Mean\n",
    "\n",
    "Here we use ingeter value of mean to avoid the further complication of float values, that may be very nice to see data set."
   ]
  },
  {
   "cell_type": "code",
   "execution_count": 37,
   "id": "7aa22682",
   "metadata": {},
   "outputs": [],
   "source": [
    "ird['SL'].fillna(int(ird['SL'].mean()), inplace=True)\n",
    "ird['SW'].fillna(int(ird['SW'].mean()), inplace=True)\n",
    "ird['PL'].fillna(int(ird['PL'].mean()), inplace=True)"
   ]
  },
  {
   "cell_type": "markdown",
   "id": "a074f9b5",
   "metadata": {},
   "source": [
    "## c. Checking further for missing values. "
   ]
  },
  {
   "cell_type": "code",
   "execution_count": 38,
   "id": "f2e201d1",
   "metadata": {},
   "outputs": [
    {
     "data": {
      "text/plain": [
       "SL                0\n",
       "SW                0\n",
       "PL                0\n",
       "PW                0\n",
       "Classification    0\n",
       "dtype: int64"
      ]
     },
     "execution_count": 38,
     "metadata": {},
     "output_type": "execute_result"
    }
   ],
   "source": [
    "ird.isna().sum()"
   ]
  },
  {
   "cell_type": "markdown",
   "id": "de62d368",
   "metadata": {},
   "source": [
    "## d. Basic Information about the Data set."
   ]
  },
  {
   "cell_type": "code",
   "execution_count": 39,
   "id": "5c5163ac",
   "metadata": {},
   "outputs": [
    {
     "name": "stdout",
     "output_type": "stream",
     "text": [
      "<class 'pandas.core.frame.DataFrame'>\n",
      "RangeIndex: 150 entries, 0 to 149\n",
      "Data columns (total 5 columns):\n",
      " #   Column          Non-Null Count  Dtype  \n",
      "---  ------          --------------  -----  \n",
      " 0   SL              150 non-null    float64\n",
      " 1   SW              150 non-null    float64\n",
      " 2   PL              150 non-null    float64\n",
      " 3   PW              150 non-null    float64\n",
      " 4   Classification  150 non-null    object \n",
      "dtypes: float64(4), object(1)\n",
      "memory usage: 6.0+ KB\n"
     ]
    }
   ],
   "source": [
    "ird.info()"
   ]
  },
  {
   "cell_type": "markdown",
   "id": "8a139092",
   "metadata": {},
   "source": [
    "Which is clear that the Data set has four columns with float value and one object column.<br>\n",
    "\n",
    "## e. Basic Statistic of Data set."
   ]
  },
  {
   "cell_type": "code",
   "execution_count": 40,
   "id": "694f26f9",
   "metadata": {},
   "outputs": [
    {
     "data": {
      "text/html": [
       "<div>\n",
       "<style scoped>\n",
       "    .dataframe tbody tr th:only-of-type {\n",
       "        vertical-align: middle;\n",
       "    }\n",
       "\n",
       "    .dataframe tbody tr th {\n",
       "        vertical-align: top;\n",
       "    }\n",
       "\n",
       "    .dataframe thead th {\n",
       "        text-align: right;\n",
       "    }\n",
       "</style>\n",
       "<table border=\"1\" class=\"dataframe\">\n",
       "  <thead>\n",
       "    <tr style=\"text-align: right;\">\n",
       "      <th></th>\n",
       "      <th>SL</th>\n",
       "      <th>SW</th>\n",
       "      <th>PL</th>\n",
       "      <th>PW</th>\n",
       "    </tr>\n",
       "  </thead>\n",
       "  <tbody>\n",
       "    <tr>\n",
       "      <th>count</th>\n",
       "      <td>150.000000</td>\n",
       "      <td>150.000000</td>\n",
       "      <td>150.000000</td>\n",
       "      <td>150.000000</td>\n",
       "    </tr>\n",
       "    <tr>\n",
       "      <th>mean</th>\n",
       "      <td>5.816000</td>\n",
       "      <td>3.047333</td>\n",
       "      <td>3.726000</td>\n",
       "      <td>1.198667</td>\n",
       "    </tr>\n",
       "    <tr>\n",
       "      <th>std</th>\n",
       "      <td>0.828525</td>\n",
       "      <td>0.421995</td>\n",
       "      <td>1.731874</td>\n",
       "      <td>0.763161</td>\n",
       "    </tr>\n",
       "    <tr>\n",
       "      <th>min</th>\n",
       "      <td>4.300000</td>\n",
       "      <td>2.000000</td>\n",
       "      <td>1.000000</td>\n",
       "      <td>0.100000</td>\n",
       "    </tr>\n",
       "    <tr>\n",
       "      <th>25%</th>\n",
       "      <td>5.100000</td>\n",
       "      <td>2.800000</td>\n",
       "      <td>1.600000</td>\n",
       "      <td>0.300000</td>\n",
       "    </tr>\n",
       "    <tr>\n",
       "      <th>50%</th>\n",
       "      <td>5.700000</td>\n",
       "      <td>3.000000</td>\n",
       "      <td>4.200000</td>\n",
       "      <td>1.300000</td>\n",
       "    </tr>\n",
       "    <tr>\n",
       "      <th>75%</th>\n",
       "      <td>6.400000</td>\n",
       "      <td>3.275000</td>\n",
       "      <td>5.100000</td>\n",
       "      <td>1.800000</td>\n",
       "    </tr>\n",
       "    <tr>\n",
       "      <th>max</th>\n",
       "      <td>7.900000</td>\n",
       "      <td>4.400000</td>\n",
       "      <td>6.900000</td>\n",
       "      <td>2.500000</td>\n",
       "    </tr>\n",
       "  </tbody>\n",
       "</table>\n",
       "</div>"
      ],
      "text/plain": [
       "               SL          SW          PL          PW\n",
       "count  150.000000  150.000000  150.000000  150.000000\n",
       "mean     5.816000    3.047333    3.726000    1.198667\n",
       "std      0.828525    0.421995    1.731874    0.763161\n",
       "min      4.300000    2.000000    1.000000    0.100000\n",
       "25%      5.100000    2.800000    1.600000    0.300000\n",
       "50%      5.700000    3.000000    4.200000    1.300000\n",
       "75%      6.400000    3.275000    5.100000    1.800000\n",
       "max      7.900000    4.400000    6.900000    2.500000"
      ]
     },
     "execution_count": 40,
     "metadata": {},
     "output_type": "execute_result"
    }
   ],
   "source": [
    "ird.describe()"
   ]
  },
  {
   "cell_type": "markdown",
   "id": "4a920c53",
   "metadata": {},
   "source": [
    "# 3. Checking Wheather which classification is best.\n",
    "\n",
    "### Step 1. Spliting Data Set into Training and Testing Data."
   ]
  },
  {
   "cell_type": "code",
   "execution_count": 41,
   "id": "a5b12667",
   "metadata": {},
   "outputs": [],
   "source": [
    "X=ird.iloc[:,[0,1,2,3]].values\n",
    "y=ird.iloc[:,[4]].values\n",
    "X_train,X_test,y_train,y_test=train_test_split(X,y,random_state=42,test_size=0.25)"
   ]
  },
  {
   "cell_type": "markdown",
   "id": "d3c6673a",
   "metadata": {},
   "source": [
    "### Step 2. K Nearest Neighbor Classification.\n",
    "\n",
    "#### Find the best value of K"
   ]
  },
  {
   "cell_type": "code",
   "execution_count": 42,
   "id": "d97475ae",
   "metadata": {},
   "outputs": [
    {
     "data": {
      "text/plain": [
       "[1.0,\n",
       " 1.0,\n",
       " 0.9473684210526315,\n",
       " 1.0,\n",
       " 1.0,\n",
       " 1.0,\n",
       " 1.0,\n",
       " 1.0,\n",
       " 1.0,\n",
       " 1.0,\n",
       " 1.0,\n",
       " 1.0,\n",
       " 1.0,\n",
       " 1.0,\n",
       " 1.0,\n",
       " 1.0,\n",
       " 1.0,\n",
       " 1.0,\n",
       " 1.0,\n",
       " 1.0,\n",
       " 1.0,\n",
       " 1.0]"
      ]
     },
     "execution_count": 42,
     "metadata": {},
     "output_type": "execute_result"
    }
   ],
   "source": [
    "acc_values=[]\n",
    "neighbors=np.arange(3,25)\n",
    "for k in neighbors:\n",
    "    classifier=KNeighborsClassifier(n_neighbors=k,metric='minkowski')\n",
    "    classifier.fit(X_train,y_train)\n",
    "    y_pred=classifier.predict(X_test)\n",
    "    acc=accuracy_score(y_test,y_pred)\n",
    "    acc_values.append(acc)\n",
    "acc_values"
   ]
  },
  {
   "cell_type": "markdown",
   "id": "cd717fdb",
   "metadata": {},
   "source": [
    "**Interpretation**<br>\n",
    "Among the 15 values of K, except the third value of k all other have good accuracy score.\n",
    "\n",
    "#### By giving the value of KNN Model."
   ]
  },
  {
   "cell_type": "code",
   "execution_count": 44,
   "id": "a4ca48e0",
   "metadata": {},
   "outputs": [
    {
     "name": "stdout",
     "output_type": "stream",
     "text": [
      "Accuracy of KNN Model is-1.00\n",
      "Confusion matrix of KNN Model is [[15  0  0]\n",
      " [ 0 11  0]\n",
      " [ 0  0 12]]\n"
     ]
    }
   ],
   "source": [
    "classifier=KNeighborsClassifier(n_neighbors=4,metric='minkowski')\n",
    "classifier.fit(X_train,y_train)\n",
    "y_pred=classifier.predict(X_test)\n",
    "print('Accuracy of KNN Model is-''%.2f'% accuracy_score(y_test,y_pred))\n",
    "print('Confusion matrix of KNN Model is',confusion_matrix(y_test,y_pred))"
   ]
  },
  {
   "cell_type": "markdown",
   "id": "79d44578",
   "metadata": {},
   "source": [
    "#### Step 3. Desition Tree."
   ]
  },
  {
   "cell_type": "code",
   "execution_count": 58,
   "id": "0657a01d",
   "metadata": {},
   "outputs": [
    {
     "data": {
      "text/plain": [
       "SL                0\n",
       "SW                0\n",
       "PL                0\n",
       "PW                0\n",
       "Classification    0\n",
       "dtype: int64"
      ]
     },
     "execution_count": 58,
     "metadata": {},
     "output_type": "execute_result"
    }
   ],
   "source": [
    "dtirs=pd.read_excel(r'C:\\Users\\Lenovo\\OneDrive\\Desktop\\ICT Academy\\CS07 iris.xls')\n",
    "dtirs['SL'].fillna(int(dtirs['SL'].mean()), inplace=True)\n",
    "dtirs['SW'].fillna(int(dtirs['SW'].mean()), inplace=True)\n",
    "dtirs['PL'].fillna(int(dtirs['PL'].mean()), inplace=True)\n",
    "dtirs.isna().sum()"
   ]
  },
  {
   "cell_type": "code",
   "execution_count": 59,
   "id": "07ce4820",
   "metadata": {},
   "outputs": [],
   "source": [
    "X=dtirs.iloc[:,[0,1,2,3]].values\n",
    "y=dtirs.iloc[:,[4]].values\n",
    "X_train,X_test,y_train,y_test=train_test_split(X,y,random_state=42,test_size=0.25)"
   ]
  },
  {
   "cell_type": "code",
   "execution_count": 60,
   "id": "8016212a",
   "metadata": {},
   "outputs": [
    {
     "name": "stdout",
     "output_type": "stream",
     "text": [
      "The Accuracy of Decision Tree Model is: 1.0\n",
      "Confusion matrix of KNN Model is [[15  0  0]\n",
      " [ 0 11  0]\n",
      " [ 0  0 12]]\n"
     ]
    }
   ],
   "source": [
    "dtfit=DecisionTreeClassifier(max_depth=3,random_state=42)\n",
    "dtfit.fit(X_train,y_train)\n",
    "y_pred1=dtfit.predict(X_test)\n",
    "print('The Accuracy of Decision Tree Model is:',accuracy_score(y_test,y_pred1))\n",
    "print('Confusion matrix of KNN Model is',confusion_matrix(y_test,y_pred1))"
   ]
  },
  {
   "cell_type": "code",
   "execution_count": 61,
   "id": "5e2f423d",
   "metadata": {},
   "outputs": [
    {
     "data": {
      "text/plain": [
       "array([0.        , 0.        , 0.06677384, 0.93322616])"
      ]
     },
     "execution_count": 61,
     "metadata": {},
     "output_type": "execute_result"
    }
   ],
   "source": [
    "dtfit.feature_importances_"
   ]
  },
  {
   "cell_type": "markdown",
   "id": "2882443d",
   "metadata": {},
   "source": [
    "Which is we can say Sepal length and Sepel Width has no importance in order to build this Decision tree.<br>\n",
    "Also we can see that accuracy are good and confusion matrix is same as KNN model.\n",
    "\n",
    "#### Applying the decision tree."
   ]
  },
  {
   "cell_type": "code",
   "execution_count": 57,
   "id": "d15f9ee7",
   "metadata": {},
   "outputs": [
    {
     "data": {
      "image/png": "[encoded data removed]",
      "text/plain": [
       "<Figure size 648x432 with 1 Axes>"
      ]
     },
     "metadata": {
      "needs_background": "light"
     },
     "output_type": "display_data"
    }
   ],
   "source": [
    "plt.figure(figsize=(9,6))\n",
    "plot_tree(dtfit,filled=True);"
   ]
  },
  {
   "cell_type": "markdown",
   "id": "f8152c60",
   "metadata": {},
   "source": [
    "#### Step 4. Support Vector Model.\n"
   ]
  },
  {
   "cell_type": "code",
   "execution_count": 99,
   "id": "2f42fdef",
   "metadata": {},
   "outputs": [
    {
     "data": {
      "text/plain": [
       "SVC()"
      ]
     },
     "execution_count": 99,
     "metadata": {},
     "output_type": "execute_result"
    }
   ],
   "source": [
    "from sklearn.metrics import accuracy_score\n",
    "svmfit=SVC()\n",
    "svmfit.fit(X_train,y_train)"
   ]
  },
  {
   "cell_type": "code",
   "execution_count": 100,
   "id": "b44c83fa",
   "metadata": {},
   "outputs": [],
   "source": [
    "y_pred2=svmfit.predict(X_test)\n"
   ]
  },
  {
   "cell_type": "code",
   "execution_count": 103,
   "id": "a4f7f4d1",
   "metadata": {},
   "outputs": [
    {
     "name": "stdout",
     "output_type": "stream",
     "text": [
      "The Accuracy of SVM Model is: 1.0\n"
     ]
    },
    {
     "data": {
      "text/plain": [
       "array([[15,  0,  0],\n",
       "       [ 0, 11,  0],\n",
       "       [ 0,  0, 12]], dtype=int64)"
      ]
     },
     "execution_count": 103,
     "metadata": {},
     "output_type": "execute_result"
    }
   ],
   "source": [
    "print('The Accuracy of SVM Model is:',accuracy_score(y_pred2,y_test))\n",
    "confusion_matrix(y_test,y_pred2)"
   ]
  },
  {
   "cell_type": "markdown",
   "id": "b7b8163c",
   "metadata": {},
   "source": [
    "#### Step 5. Random forest.\n"
   ]
  },
  {
   "cell_type": "code",
   "execution_count": 105,
   "id": "90e91ccd",
   "metadata": {},
   "outputs": [
    {
     "name": "stdout",
     "output_type": "stream",
     "text": [
      "The Accuracy of SVM Model is: 1.0\n"
     ]
    },
    {
     "data": {
      "text/plain": [
       "array([[15,  0,  0],\n",
       "       [ 0, 11,  0],\n",
       "       [ 0,  0, 12]], dtype=int64)"
      ]
     },
     "execution_count": 105,
     "metadata": {},
     "output_type": "execute_result"
    }
   ],
   "source": [
    "from sklearn.metrics import accuracy_score\n",
    "rffit=RandomForestClassifier(n_estimators=100)\n",
    "rffit.fit(X_train,y_train)\n",
    "y_pred3=rffit.predict(X_test)\n",
    "print('The Accuracy of SVM Model is:',accuracy_score(y_pred3,y_test))\n",
    "confusion_matrix(y_test,y_pred3)"
   ]
  },
  {
   "cell_type": "markdown",
   "id": "dedf268c",
   "metadata": {},
   "source": [
    "**Interpretation**\n",
    "Using any model is same because the accuracy score and confusion matrix. Because all model predictive is prefect and good."
   ]
  }
 ],
 "metadata": {
  "kernelspec": {
   "display_name": "Python 3",
   "language": "python",
   "name": "python3"
  },
  "language_info": {
   "codemirror_mode": {
    "name": "ipython",
    "version": 3
   },
   "file_extension": ".py",
   "mimetype": "text/x-python",
   "name": "python",
   "nbconvert_exporter": "python",
   "pygments_lexer": "ipython3",
   "version": "3.8.8"
  }
 },
 "nbformat": 4,
 "nbformat_minor": 5
}
